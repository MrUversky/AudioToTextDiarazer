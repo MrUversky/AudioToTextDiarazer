{
  "cells": [
    {
      "cell_type": "markdown",
      "metadata": {},
      "source": [
        "# 🎤 AudioToTextDiarazer: Расшифровка аудио и видео с диаризацией\n",
        "\n",
        "Этот блокнот позволяет:\n",
        "1. Загрузить аудио или видео файл\n",
        "2. Извлечь из него аудио (если это видео)\n",
        "3. Распознать речь с помощью Whisper\n",
        "4. Выполнить диаризацию (определение говорящих)\n",
        "5. Сохранить результаты в различных форматах\n"
      ]
    },
    {
      "cell_type": "markdown",
      "metadata": {},
      "source": [
        "## 1. Клонирование репозитория и установка зависимостей\n"
      ]
    },
    {
      "cell_type": "code",
      "execution_count": null,
      "metadata": {},
      "outputs": [],
      "source": [
        "# Клонирование репозитория\n",
        "!git clone https://github.com/your-username/AudioToTextDiarazer.git\n",
        "%cd AudioToTextDiarazer\n"
      ]
    },
    {
      "cell_type": "markdown",
      "metadata": {},
      "source": [
        "## 2. Загрузка файла\n",
        "\n",
        "Загрузите ваш аудио/видео файл через интерфейс Colab или подключите Google Drive\n"
      ]
    },
    {
      "cell_type": "code",
      "execution_count": null,
      "metadata": {},
      "outputs": [],
      "source": [
        "# Вариант 1: Загрузка через интерфейс Colab\n",
        "from google.colab import files\n",
        "\n",
        "uploaded = files.upload()\n",
        "input_filename = next(iter(uploaded.keys()))\n",
        "print(f\"Загружен файл: {input_filename}\")\n",
        "\n",
        "# Создаём директорию для входных файлов\n",
        "!mkdir -p INPUT\n",
        "!mv \"{input_filename}\" INPUT/input_file\n",
        "input_path = \"INPUT/input_file\"\n"
      ]
    },
    {
      "cell_type": "code",
      "execution_count": null,
      "metadata": {},
      "outputs": [],
      "source": [
        "# Вариант 2: Подключение к Google Drive\n",
        "from google.colab import drive\n",
        "drive.mount('/content/drive')\n",
        "\n",
        "# Создание директорий для хранения результатов\n",
        "drive_output_dir = '/content/drive/MyDrive/audio_to_text_results'\n",
        "!mkdir -p {drive_output_dir}\n",
        "print(f\"Результаты будут сохранены в: {drive_output_dir}\")\n",
        "\n",
        "# Если хотите использовать файл с Google Drive - раскомментируйте строку ниже\n",
        "# input_path = '/content/drive/MyDrive/путь_к_файлу.mp4'  # Укажите путь к вашему файлу\n"
      ]
    },
    {
      "cell_type": "markdown",
      "metadata": {},
      "source": [
        "## 3. Настройка параметров\n"
      ]
    },
    {
      "cell_type": "code",
      "execution_count": null,
      "metadata": {},
      "outputs": [],
      "source": [
        "# Основные настройки\n",
        "START_MIN = None      # Начало обработки (минуты), None = с начала файла\n",
        "END_MIN = None        # Конец обработки (минуты), None = до конца файла\n",
        "DIARIZE = False       # Включить диаризацию (определение говорящих)\n",
        "NUM_SPEAKERS = 2      # Количество говорящих (для диаризации)\n",
        "LANG = \"ru\"           # Язык распознавания\n",
        "\n",
        "# Настройки модели (для продвинутых пользователей)\n",
        "PREFER_GPU_ASR = True         # Использовать GPU, если доступен\n",
        "FORCE_CPU_ASR = True          # Принудительно использовать CPU (стабильнее)\n",
        "ASR_MODEL_GPU = \"distil-large-v3\" \n",
        "ASR_MODEL_CPU = \"small\"\n",
        "\n",
        "# HuggingFace токен для PyAnnote (для лучшей диаризации)\n",
        "# import os\n",
        "# os.environ[\"HF_TOKEN\"] = \"ваш_токен_huggingface\"  # Раскомментируйте и укажите свой токен\n"
      ]
    },
    {
      "cell_type": "markdown",
      "metadata": {},
      "source": [
        "## 4. Запуск процесса распознавания и диаризации\n"
      ]
    },
    {
      "cell_type": "code",
      "execution_count": null,
      "metadata": {},
      "outputs": [],
      "source": [
        "# Модификация скрипта для работы с загруженным файлом\n",
        "with open('audio_to_text_diarizer.py', 'r') as f:\n",
        "    script = f.read()\n",
        "\n",
        "# Замена пути к входному файлу и других параметров\n",
        "script = script.replace('INPUT_MEDIA   = \"input.mp4\"', f'INPUT_MEDIA   = \"{input_path}\"')\n",
        "script = script.replace('START_MIN     = None', f'START_MIN     = {START_MIN}')\n",
        "script = script.replace('END_MIN       = None', f'END_MIN       = {END_MIN}')\n",
        "script = script.replace('DIARIZE       = False', f'DIARIZE       = {DIARIZE}')\n",
        "script = script.replace('NUM_SPEAKERS  = 2', f'NUM_SPEAKERS  = {NUM_SPEAKERS}')\n",
        "script = script.replace('LANG          = \"ru\"', f'LANG          = \"{LANG}\"')\n",
        "\n",
        "# Запись временного скрипта\n",
        "with open('temp_script.py', 'w') as f:\n",
        "    f.write(script)\n",
        "\n",
        "# Запуск скрипта\n",
        "%run temp_script.py\n"
      ]
    },
    {
      "cell_type": "markdown",
      "metadata": {},
      "source": [
        "## 5. Просмотр результатов\n"
      ]
    },
    {
      "cell_type": "code",
      "execution_count": null,
      "metadata": {},
      "outputs": [],
      "source": [
        "import json\n",
        "from IPython.display import display, HTML\n",
        "\n",
        "# Загрузка результатов\n",
        "try:\n",
        "    with open('run_out/final/final.json', 'r', encoding='utf-8') as f:\n",
        "        results = json.load(f)\n",
        "    \n",
        "    # Отображение сегментов с временными метками\n",
        "    html = \"<h3>Результаты распознавания</h3><table border=1>\"\n",
        "    html += \"<tr><th>Время</th><th>Говорящий</th><th>Текст</th></tr>\"\n",
        "    \n",
        "    for seg in results.get('segments', []):\n",
        "        start = f\"{int(seg['start']//60):02d}:{int(seg['start']%60):02d}\"\n",
        "        end = f\"{int(seg['end']//60):02d}:{int(seg['end']%60):02d}\"\n",
        "        speaker = seg.get('speaker', '')\n",
        "        text = seg.get('text', '').strip()\n",
        "        html += f\"<tr><td>{start}-{end}</td><td>{speaker}</td><td>{text}</td></tr>\"\n",
        "    \n",
        "    html += \"</table>\"\n",
        "    display(HTML(html))\n",
        "except Exception as e:\n",
        "    print(f\"Ошибка при загрузке результатов: {e}\")\n"
      ]
    },
    {
      "cell_type": "markdown",
      "metadata": {},
      "source": [
        "## 6. Скачивание результатов\n"
      ]
    },
    {
      "cell_type": "code",
      "execution_count": null,
      "metadata": {},
      "outputs": [],
      "source": [
        "from google.colab import files\n",
        "import shutil\n",
        "import os\n",
        "from datetime import datetime\n",
        "\n",
        "# Создаем уникальное имя для архива с результатами\n",
        "timestamp = datetime.now().strftime(\"%Y%m%d_%H%M%S\")\n",
        "archive_name = f\"audio_results_{timestamp}.zip\"\n",
        "\n",
        "# Архивирование результатов\n",
        "!zip -r {archive_name} run_out/\n",
        "\n",
        "# Сохранение результатов на Google Drive\n",
        "if 'drive_output_dir' in globals():\n",
        "    drive_archive = os.path.join(drive_output_dir, archive_name)\n",
        "    shutil.copy(archive_name, drive_archive)\n",
        "    print(f\"Результаты сохранены на Google Drive: {drive_archive}\")\n",
        "\n",
        "# Скачивание архива локально\n",
        "print(\"Скачивание результатов на ваш компьютер...\")\n",
        "files.download(archive_name)\n"
      ]
    }
  ],
  "metadata": {
    "language_info": {
      "name": "python"
    }
  },
  "nbformat": 4,
  "nbformat_minor": 2
}
